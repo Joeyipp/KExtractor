{
  "nbformat": 4,
  "nbformat_minor": 0,
  "metadata": {
    "colab": {
      "provenance": []
    },
    "kernelspec": {
      "name": "python3",
      "display_name": "Python 3"
    },
    "language_info": {
      "name": "python"
    }
  },
  "cells": [
    {
      "cell_type": "markdown",
      "source": [
        "**IEEE BigData 2024: EMPWR Lab Session 12/17/2024**\n",
        "\n",
        "The Process of Turning an Unstructured Data Input to KGs"
      ],
      "metadata": {
        "id": "FZ6Trx_2WunU"
      }
    },
    {
      "cell_type": "markdown",
      "source": [
        "**Framework**\n",
        "\n",
        "1. Data Ingestion & Extraction\n",
        "2. Search and Integration of Existing Knowledge Bases\n",
        "3. Knowledge Enrichment (Data Uplifting) & Linking\n",
        "4. Subgraph Creations\n",
        "5. Schema Inference, Generation, and Alignment"
      ],
      "metadata": {
        "id": "nBjn0J6lyAya"
      }
    },
    {
      "cell_type": "markdown",
      "source": [
        "### 1. Data Ingestion & Extraction with LLMs"
      ],
      "metadata": {
        "id": "6rLLX4Q0ZbaJ"
      }
    },
    {
      "cell_type": "code",
      "execution_count": null,
      "metadata": {
        "id": "skOvhh1RxzC0"
      },
      "outputs": [],
      "source": [
        "# Load the Transformer-based Large Language Model: REBEL\n",
        "# https://github.com/Babelscape/rebel\n",
        "\n",
        "from transformers import pipeline\n",
        "\n",
        "triplet_extractor = pipeline('text2text-generation', model='Babelscape/rebel-large', tokenizer='Babelscape/rebel-large')\n",
        "\n",
        "# Function to parse the generated text and extract the triplets\n",
        "def extract_triplets(text):\n",
        "    triplets = []\n",
        "    relation, subject, relation, object_ = '', '', '', ''\n",
        "    text = text.strip()\n",
        "    current = 'x'\n",
        "    for token in text.replace(\"<s>\", \"\").replace(\"<pad>\", \"\").replace(\"</s>\", \"\").split():\n",
        "        if token == \"<triplet>\":\n",
        "            current = 't'\n",
        "            if relation != '':\n",
        "                triplets.append({'head': subject.strip(), 'type': relation.strip(),'tail': object_.strip()})\n",
        "                relation = ''\n",
        "            subject = ''\n",
        "        elif token == \"<subj>\":\n",
        "            current = 's'\n",
        "            if relation != '':\n",
        "                triplets.append({'head': subject.strip(), 'type': relation.strip(),'tail': object_.strip()})\n",
        "            object_ = ''\n",
        "        elif token == \"<obj>\":\n",
        "            current = 'o'\n",
        "            relation = ''\n",
        "        else:\n",
        "            if current == 't':\n",
        "                subject += ' ' + token\n",
        "            elif current == 's':\n",
        "                object_ += ' ' + token\n",
        "            elif current == 'o':\n",
        "                relation += ' ' + token\n",
        "    if subject != '' and relation != '' and object_ != '':\n",
        "        triplets.append({'head': subject.strip(), 'type': relation.strip(),'tail': object_.strip()})\n",
        "    return triplets"
      ]
    },
    {
      "cell_type": "code",
      "source": [
        "# Our qa_text\n",
        "qa_text = \"How does methotrexate treat rheumatoid arthritis?\"\n",
        "\n",
        "# Perform triple extraction\n",
        "extracted_text = triplet_extractor.tokenizer.batch_decode([triplet_extractor(qa_text, return_tensors=True, return_text=False)[0][\"generated_token_ids\"]])\n",
        "extracted_triplets = extract_triplets(extracted_text[0])\n",
        "print(json.dumps(extracted_triplets,sort_keys=False, indent=4))"
      ],
      "metadata": {
        "colab": {
          "base_uri": "https://localhost:8080/"
        },
        "id": "k0SWX-O7XkoD",
        "outputId": "a1c7434e-974e-4aed-e30e-5460dcb103c0"
      },
      "execution_count": null,
      "outputs": [
        {
          "output_type": "stream",
          "name": "stdout",
          "text": [
            "[\n",
            "    {\n",
            "        \"head\": \"methotrexate\",\n",
            "        \"type\": \"medical condition treated\",\n",
            "        \"tail\": \"rheumatoid arthritis\"\n",
            "    },\n",
            "    {\n",
            "        \"head\": \"rheumatoid arthritis\",\n",
            "        \"type\": \"drug used for treatment\",\n",
            "        \"tail\": \"methotrexate\"\n",
            "    }\n",
            "]\n"
          ]
        }
      ]
    },
    {
      "cell_type": "markdown",
      "source": [
        "#### Create Seed KG"
      ],
      "metadata": {
        "id": "0E_dyHmzMQOs"
      }
    },
    {
      "cell_type": "code",
      "source": [
        "import json\n",
        "import datetime\n",
        "now = str(datetime.datetime.now())\n",
        "\n",
        "import nltk\n",
        "nltk.download('wordnet')\n",
        "from nltk.corpus import wordnet as wn\n",
        "\n",
        "source = \"REBEL\"\n",
        "triples = []\n",
        "entities = []\n",
        "relations = []\n",
        "\n",
        "for triplet in extracted_triplets:\n",
        "  # Quintuple format\n",
        "  # head, relation, tail, source, time\n",
        "  triples.append({\n",
        "      \"head\": triplet[\"head\"],\n",
        "      \"relation\": triplet[\"type\"],\n",
        "      \"tail\": triplet[\"tail\"],\n",
        "      \"source\": source,\n",
        "      \"createdAt\": now\n",
        "  })\n",
        "  entities.append(triplet[\"head\"])\n",
        "  entities.append(triplet[\"tail\"])\n",
        "  relations.append(triplet[\"type\"])\n",
        "\n",
        "# Get unique list of entities & relations\n",
        "entities = set(entities)\n",
        "relations = set(relations)"
      ],
      "metadata": {
        "colab": {
          "base_uri": "https://localhost:8080/"
        },
        "id": "LQ9xA5bcknKl",
        "outputId": "0136a6a5-dcc2-4e68-b6c0-bc45a4716feb"
      },
      "execution_count": null,
      "outputs": [
        {
          "output_type": "stream",
          "name": "stderr",
          "text": [
            "[nltk_data] Downloading package wordnet to /root/nltk_data...\n",
            "[nltk_data]   Package wordnet is already up-to-date!\n"
          ]
        }
      ]
    },
    {
      "cell_type": "code",
      "source": [
        "print(json.dumps(triples,sort_keys=False, indent=4))"
      ],
      "metadata": {
        "colab": {
          "base_uri": "https://localhost:8080/"
        },
        "id": "_rLvWWKMlhCP",
        "outputId": "7518f125-4fcd-44db-e88d-fabc79e5cdd7"
      },
      "execution_count": null,
      "outputs": [
        {
          "output_type": "stream",
          "name": "stdout",
          "text": [
            "[\n",
            "    {\n",
            "        \"head\": \"methotrexate\",\n",
            "        \"relation\": \"medical condition treated\",\n",
            "        \"tail\": \"rheumatoid arthritis\",\n",
            "        \"source\": \"REBEL\",\n",
            "        \"createdAt\": \"2024-12-05 00:54:25.153448\"\n",
            "    },\n",
            "    {\n",
            "        \"head\": \"rheumatoid arthritis\",\n",
            "        \"relation\": \"drug used for treatment\",\n",
            "        \"tail\": \"methotrexate\",\n",
            "        \"source\": \"REBEL\",\n",
            "        \"createdAt\": \"2024-12-05 00:54:25.153448\"\n",
            "    }\n",
            "]\n"
          ]
        }
      ]
    },
    {
      "cell_type": "code",
      "source": [
        "for entity in entities:\n",
        "  print(entity)"
      ],
      "metadata": {
        "colab": {
          "base_uri": "https://localhost:8080/"
        },
        "id": "KMmPpfyGzx0M",
        "outputId": "145689e9-767a-438b-c2b6-98c68f77c65d"
      },
      "execution_count": null,
      "outputs": [
        {
          "output_type": "stream",
          "name": "stdout",
          "text": [
            "methotrexate\n",
            "rheumatoid arthritis\n"
          ]
        }
      ]
    },
    {
      "cell_type": "code",
      "source": [
        "for relation in relations:\n",
        "  print(relation)"
      ],
      "metadata": {
        "colab": {
          "base_uri": "https://localhost:8080/"
        },
        "id": "0DrnlKI3z3hT",
        "outputId": "81181bc4-ba5c-4cf7-9196-5b65cafe5cfe"
      },
      "execution_count": null,
      "outputs": [
        {
          "output_type": "stream",
          "name": "stdout",
          "text": [
            "drug used for treatment\n",
            "medical condition treated\n"
          ]
        }
      ]
    },
    {
      "cell_type": "markdown",
      "source": [
        "### 2. Search and Integration of Existing Knowledge Bases\n",
        "\n",
        "More at: https://github.com/Joeyipp/KExtractor"
      ],
      "metadata": {
        "id": "IbP5D-SMajbR"
      }
    },
    {
      "cell_type": "code",
      "source": [
        "# Install pre-requisites and libraries\n",
        "!pip install spacy==3.5\n",
        "!pip install spacy-dbpedia-spotlight\n",
        "!pip install spacy-entity-linker\n",
        "!pip install wikidata\n",
        "!pip install rdflib\n",
        "!pip install SPARQLWrapper\n",
        "!pip install networkx matplotlib\n",
        "\n",
        "!python -m spacy download en_core_web_md\n",
        "!python -m spacy_entity_linker \"download_knowledge_base\" # Wikidata"
      ],
      "metadata": {
        "collapsed": true,
        "id": "5Pd9yId_hWuG"
      },
      "execution_count": null,
      "outputs": []
    },
    {
      "cell_type": "code",
      "source": [
        "import spacy  # version 3.5'\n",
        "\n",
        "# initialize language model\n",
        "nlp = spacy.load(\"en_core_web_md\")\n",
        "\n",
        "# add pipeline (declared through entry_points in setup.py)\n",
        "nlp.add_pipe(\"entityLinker\", last=True)"
      ],
      "metadata": {
        "colab": {
          "base_uri": "https://localhost:8080/"
        },
        "id": "iVkQnUiKfEzW",
        "outputId": "2b29757f-662c-4e06-fd5d-7752feeccffe"
      },
      "execution_count": null,
      "outputs": [
        {
          "output_type": "execute_result",
          "data": {
            "text/plain": [
              "<spacy_entity_linker.EntityLinker.EntityLinker at 0x7dd9c278fa30>"
            ]
          },
          "metadata": {},
          "execution_count": 206
        }
      ]
    },
    {
      "cell_type": "markdown",
      "source": [
        "#### Entity Linking with WikiData"
      ],
      "metadata": {
        "id": "KOQvYvCBM8_o"
      }
    },
    {
      "cell_type": "code",
      "source": [
        "doc = nlp(\",\".join(entities))\n",
        "\n",
        "# returns all entities in the whole document\n",
        "all_linked_entities = doc._.linkedEntities\n",
        "wikiData_ID = []\n",
        "\n",
        "source = \"WikiData\"\n",
        "#iterates over sentences and prints linked entities\n",
        "for sent in doc.sents:\n",
        "    # sent._.linkedEntities.pretty_print()\n",
        "    # Get LinkedEntities info\n",
        "\n",
        "    for ent in sent._.linkedEntities:\n",
        "      res = {\n",
        "          \"head\": ent.get_label(),\n",
        "          \"relation\": \"WikiData_ID\",\n",
        "          \"tail\": \"Q{}\".format(ent.get_id()),\n",
        "          \"source\": source,\n",
        "          \"createdAt\": now\n",
        "      }\n",
        "      wikiData_ID.append(\"Q{}\".format(ent.get_id()))\n",
        "      triples.append(res)\n",
        "\n",
        "print(json.dumps(triples,sort_keys=False, indent=4))"
      ],
      "metadata": {
        "colab": {
          "base_uri": "https://localhost:8080/"
        },
        "id": "2886rI3wiR8P",
        "outputId": "e4aa887e-61bb-4e94-eef4-2f96d560d3da"
      },
      "execution_count": null,
      "outputs": [
        {
          "output_type": "stream",
          "name": "stdout",
          "text": [
            "[\n",
            "    {\n",
            "        \"head\": \"methotrexate\",\n",
            "        \"relation\": \"medical condition treated\",\n",
            "        \"tail\": \"rheumatoid arthritis\",\n",
            "        \"source\": \"REBEL\",\n",
            "        \"createdAt\": \"2024-12-05 00:54:25.153448\"\n",
            "    },\n",
            "    {\n",
            "        \"head\": \"rheumatoid arthritis\",\n",
            "        \"relation\": \"drug used for treatment\",\n",
            "        \"tail\": \"methotrexate\",\n",
            "        \"source\": \"REBEL\",\n",
            "        \"createdAt\": \"2024-12-05 00:54:25.153448\"\n",
            "    },\n",
            "    {\n",
            "        \"head\": \"methotrexate\",\n",
            "        \"relation\": \"WikiData_ID\",\n",
            "        \"tail\": \"Q422232\",\n",
            "        \"source\": \"WikiData\",\n",
            "        \"createdAt\": \"2024-12-05 00:54:25.153448\"\n",
            "    },\n",
            "    {\n",
            "        \"head\": \"rheumatoid arthritis\",\n",
            "        \"relation\": \"WikiData_ID\",\n",
            "        \"tail\": \"Q187255\",\n",
            "        \"source\": \"WikiData\",\n",
            "        \"createdAt\": \"2024-12-05 00:54:25.153448\"\n",
            "    }\n",
            "]\n"
          ]
        }
      ]
    },
    {
      "cell_type": "markdown",
      "source": [
        "### 3. Knowledge Enrichment (Data Uplifting)"
      ],
      "metadata": {
        "id": "2u-NB_N90w2U"
      }
    },
    {
      "cell_type": "code",
      "source": [
        "# Linking with WikiData\n",
        "from SPARQLWrapper import SPARQLWrapper, JSON\n",
        "\n",
        "# Define the Wikidata SPARQL endpoint\n",
        "sparql = SPARQLWrapper(\"https://query.wikidata.org/sparql\")\n",
        "\n",
        "# Function to get the label for a given Wikidata URI\n",
        "def get_wikidata_label(wikidata_uri):\n",
        "    # Set up the SPARQL endpoint for Wikidata\n",
        "    sparql = SPARQLWrapper(\"https://query.wikidata.org/sparql\")\n",
        "\n",
        "    # Define the SPARQL query to get the label for the given Wikidata URI\n",
        "    query = f\"\"\"\n",
        "    SELECT ?label WHERE {{\n",
        "      wd:{wikidata_uri} rdfs:label ?label.\n",
        "      FILTER(LANG(?label) = \"en\")\n",
        "    }}\n",
        "    \"\"\"\n",
        "\n",
        "    # Set the query and return format\n",
        "    sparql.setQuery(query)\n",
        "    sparql.setReturnFormat(JSON)\n",
        "\n",
        "    # Execute the query and get the results\n",
        "    try:\n",
        "        results = sparql.query().convert()\n",
        "        if results[\"results\"][\"bindings\"]:\n",
        "            # If results are found, return the label\n",
        "            label = results[\"results\"][\"bindings\"][0][\"label\"][\"value\"]\n",
        "            return label\n",
        "        else:\n",
        "            return None\n",
        "    except Exception as e:\n",
        "        print(f\"Error querying Wikidata: {e}\")\n",
        "        return None\n",
        "\n",
        "for item_id in wikiData_ID:\n",
        "    sparql.setQuery(f\"\"\"\n",
        "    SELECT ?property ?propertyLabel ?value ?valueLabel WHERE {{\n",
        "      wd:{item_id} ?property ?value.  # Query for properties and values of the specified item\n",
        "      SERVICE wikibase:label {{ bd:serviceParam wikibase:language \"[AUTO_LANGUAGE],en\". }}  # Fetch labels in English\n",
        "    }}\n",
        "    LIMIT 5\n",
        "    \"\"\")\n",
        "\n",
        "    # Set the return format to JSON\n",
        "    sparql.setReturnFormat(JSON)\n",
        "\n",
        "    # Execute the query and store the results\n",
        "    results = sparql.query().convert()\n",
        "\n",
        "    source = \"WikiData\"\n",
        "    # Process and print the results\n",
        "    for result in results[\"results\"][\"bindings\"]:\n",
        "        res = {\n",
        "          \"head\": item_id,\n",
        "          \"relation\": get_wikidata_label(result[\"propertyLabel\"][\"value\"].split(\"/\")[-1]),\n",
        "          \"tail\": result[\"valueLabel\"][\"value\"],\n",
        "          \"source\": source,\n",
        "          \"createdAt\": now\n",
        "        }\n",
        "        triples.append(res)"
      ],
      "metadata": {
        "id": "jPhLkSx4jyv7"
      },
      "execution_count": null,
      "outputs": []
    },
    {
      "cell_type": "markdown",
      "source": [
        "#### Enriched KG"
      ],
      "metadata": {
        "id": "YkYSP8_CNcRc"
      }
    },
    {
      "cell_type": "code",
      "source": [
        "print(json.dumps(triples,sort_keys=False, indent=4))"
      ],
      "metadata": {
        "colab": {
          "base_uri": "https://localhost:8080/"
        },
        "id": "K2qfgxJ9n1r2",
        "outputId": "6882daa0-56ae-4da3-d048-626ec7505286"
      },
      "execution_count": null,
      "outputs": [
        {
          "output_type": "stream",
          "name": "stdout",
          "text": [
            "[\n",
            "    {\n",
            "        \"head\": \"methotrexate\",\n",
            "        \"relation\": \"medical condition treated\",\n",
            "        \"tail\": \"rheumatoid arthritis\",\n",
            "        \"source\": \"REBEL\",\n",
            "        \"createdAt\": \"2024-12-05 00:54:25.153448\"\n",
            "    },\n",
            "    {\n",
            "        \"head\": \"rheumatoid arthritis\",\n",
            "        \"relation\": \"drug used for treatment\",\n",
            "        \"tail\": \"methotrexate\",\n",
            "        \"source\": \"REBEL\",\n",
            "        \"createdAt\": \"2024-12-05 00:54:25.153448\"\n",
            "    },\n",
            "    {\n",
            "        \"head\": \"methotrexate\",\n",
            "        \"relation\": \"WikiData_ID\",\n",
            "        \"tail\": \"Q422232\",\n",
            "        \"source\": \"WikiData\",\n",
            "        \"createdAt\": \"2024-12-05 00:54:25.153448\"\n",
            "    },\n",
            "    {\n",
            "        \"head\": \"rheumatoid arthritis\",\n",
            "        \"relation\": \"WikiData_ID\",\n",
            "        \"tail\": \"Q187255\",\n",
            "        \"source\": \"WikiData\",\n",
            "        \"createdAt\": \"2024-12-05 00:54:25.153448\"\n",
            "    },\n",
            "    {\n",
            "        \"head\": \"Q422232\",\n",
            "        \"relation\": \"chemical formula\",\n",
            "        \"tail\": \"C\\u2082\\u2080H\\u2082\\u2082N\\u2088O\\u2085\",\n",
            "        \"source\": \"WikiData\",\n",
            "        \"createdAt\": \"2024-12-05 00:54:25.153448\"\n",
            "    },\n",
            "    {\n",
            "        \"head\": \"Q422232\",\n",
            "        \"relation\": \"subclass of\",\n",
            "        \"tail\": \"Amethopterin\",\n",
            "        \"source\": \"WikiData\",\n",
            "        \"createdAt\": \"2024-12-05 00:54:25.153448\"\n",
            "    },\n",
            "    {\n",
            "        \"head\": \"Q422232\",\n",
            "        \"relation\": \"part of\",\n",
            "        \"tail\": \"response to methotrexate\",\n",
            "        \"source\": \"WikiData\",\n",
            "        \"createdAt\": \"2024-12-05 00:54:25.153448\"\n",
            "    },\n",
            "    {\n",
            "        \"head\": \"Q422232\",\n",
            "        \"relation\": \"part of\",\n",
            "        \"tail\": \"methotrexate transmembrane transporter activity\",\n",
            "        \"source\": \"WikiData\",\n",
            "        \"createdAt\": \"2024-12-05 00:54:25.153448\"\n",
            "    },\n",
            "    {\n",
            "        \"head\": \"Q422232\",\n",
            "        \"relation\": \"part of\",\n",
            "        \"tail\": \"cellular response to methotrexate\",\n",
            "        \"source\": \"WikiData\",\n",
            "        \"createdAt\": \"2024-12-05 00:54:25.153448\"\n",
            "    },\n",
            "    {\n",
            "        \"head\": \"Q187255\",\n",
            "        \"relation\": \"drug or therapy used for treatment\",\n",
            "        \"tail\": \"azathioprine\",\n",
            "        \"source\": \"WikiData\",\n",
            "        \"createdAt\": \"2024-12-05 00:54:25.153448\"\n",
            "    },\n",
            "    {\n",
            "        \"head\": \"Q187255\",\n",
            "        \"relation\": \"drug or therapy used for treatment\",\n",
            "        \"tail\": \"ibuprofen\",\n",
            "        \"source\": \"WikiData\",\n",
            "        \"createdAt\": \"2024-12-05 00:54:25.153448\"\n",
            "    },\n",
            "    {\n",
            "        \"head\": \"Q187255\",\n",
            "        \"relation\": \"drug or therapy used for treatment\",\n",
            "        \"tail\": \"thalidomide\",\n",
            "        \"source\": \"WikiData\",\n",
            "        \"createdAt\": \"2024-12-05 00:54:25.153448\"\n",
            "    },\n",
            "    {\n",
            "        \"head\": \"Q187255\",\n",
            "        \"relation\": \"drug or therapy used for treatment\",\n",
            "        \"tail\": \"Diclofenac\",\n",
            "        \"source\": \"WikiData\",\n",
            "        \"createdAt\": \"2024-12-05 00:54:25.153448\"\n",
            "    },\n",
            "    {\n",
            "        \"head\": \"Q187255\",\n",
            "        \"relation\": \"drug or therapy used for treatment\",\n",
            "        \"tail\": \"leflunomide\",\n",
            "        \"source\": \"WikiData\",\n",
            "        \"createdAt\": \"2024-12-05 00:54:25.153448\"\n",
            "    }\n",
            "]\n"
          ]
        }
      ]
    },
    {
      "cell_type": "markdown",
      "source": [
        "### 4. Subgraph Creations"
      ],
      "metadata": {
        "id": "hvl6NWSS5kXQ"
      }
    },
    {
      "cell_type": "code",
      "source": [
        "import networkx as nx\n",
        "import matplotlib.pyplot as plt\n",
        "\n",
        "def create_Graph(data):\n",
        "    # Create a directed graph\n",
        "    G = nx.DiGraph()\n",
        "\n",
        "    # Add edges to the graph from the input data\n",
        "    for head, relation, tail in data:\n",
        "        G.add_edge(head, tail, label=relation)\n",
        "\n",
        "    # Plot the graph with labels\n",
        "    pos = nx.spring_layout(G)  # Layout for positioning nodes\n",
        "    plt.figure(figsize=(8, 6))\n",
        "\n",
        "    # Draw the graph\n",
        "    nx.draw(G, pos, with_labels=True, node_size=3000, node_color='lightblue', font_size=10, font_weight='bold', arrows=True)\n",
        "\n",
        "    # Add edge labels (relations)\n",
        "    edge_labels = nx.get_edge_attributes(G, 'label')\n",
        "    nx.draw_networkx_edge_labels(G, pos, edge_labels=edge_labels)\n",
        "\n",
        "    # Show the plot\n",
        "    plt.show()\n",
        "\n",
        "# 3 columns: head, relation, tail\n",
        "data = []\n",
        "for triple in triples:\n",
        "    data.append(tuple([triple[\"head\"], triple[\"relation\"], triple[\"tail\"]]))\n",
        "\n",
        "create_Graph(data)"
      ],
      "metadata": {
        "colab": {
          "base_uri": "https://localhost:8080/",
          "height": 636
        },
        "id": "TTThpwXJvxEv",
        "outputId": "5a0a746f-f6fd-49f8-e5f4-8fc266f2ddb3"
      },
      "execution_count": null,
      "outputs": [
        {
          "output_type": "display_data",
          "data": {
            "text/plain": [
              "<Figure size 800x600 with 1 Axes>"
            ],
            "image/png": "[encoded data removed]"
          },
          "metadata": {}
        }
      ]
    },
    {
      "cell_type": "markdown",
      "source": [
        "### 5. Schema Inference and Generation"
      ],
      "metadata": {
        "id": "V46SU-mzCJqM"
      }
    },
    {
      "cell_type": "code",
      "source": [
        "!pip install flair"
      ],
      "metadata": {
        "collapsed": true,
        "id": "5m4XyLIc5gDb"
      },
      "execution_count": null,
      "outputs": []
    },
    {
      "cell_type": "code",
      "source": [
        "# Load the Entity Tagger with HunFlair\n",
        "# https://github.com/flairNLP/flair/blob/master/resources/docs/HUNFLAIR2.md\n",
        "\n",
        "from flair.data import Sentence\n",
        "from flair.nn import Classifier\n",
        "\n",
        "# load biomedical tagger\n",
        "tagger = Classifier.load(\"hunflair2\")"
      ],
      "metadata": {
        "colab": {
          "base_uri": "https://localhost:8080/"
        },
        "id": "eL9cwltFC8vj",
        "outputId": "f20f9765-ba48-43de-cb6f-43adf376540b"
      },
      "execution_count": null,
      "outputs": [
        {
          "output_type": "stream",
          "name": "stdout",
          "text": [
            "2024-12-05 00:56:08,398 SequenceTagger predicts: Dictionary with 21 tags: O, S-Chemical, B-Chemical, E-Chemical, I-Chemical, S-Gene, B-Gene, E-Gene, I-Gene, S-Disease, B-Disease, E-Disease, I-Disease, S-Species, B-Species, E-Species, I-Species, S-CellLine, B-CellLine, E-CellLine, I-CellLine\n"
          ]
        }
      ]
    },
    {
      "cell_type": "code",
      "source": [
        "# make a sentence\n",
        "sentence = Sentence(\"methotrexate\")\n",
        "# tag sentence\n",
        "tagger.predict(sentence)\n",
        "\n",
        "for entity in sentence.get_labels():\n",
        "    label = str(entity).split(\"→\")[-1].split(\"(\")[0]"
      ],
      "metadata": {
        "id": "5pg_dAcpDEO-"
      },
      "execution_count": null,
      "outputs": []
    },
    {
      "cell_type": "markdown",
      "source": [
        "#### Schema Generation"
      ],
      "metadata": {
        "id": "8POG2pGGS-uo"
      }
    },
    {
      "cell_type": "code",
      "source": [
        "inferred_schema = []\n",
        "\n",
        "source = \"Hunflair2\"\n",
        "\n",
        "for triple in triples:\n",
        "    head_label = \"\"\n",
        "    tail_label = \"\"\n",
        "\n",
        "    head_entity = triple[\"head\"]\n",
        "    tail_entity = triple[\"tail\"]\n",
        "\n",
        "    # Schema inference\n",
        "    tagger.predict(Sentence(head_entity))\n",
        "    for head_entity in sentence.get_labels():\n",
        "        head_entity_label = str(entity).split(\"→\")[-1].split(\"(\")[0]\n",
        "\n",
        "    tagger.predict(Sentence(tail_entity))\n",
        "    for tail_entity in sentence.get_labels():\n",
        "        tail_entity_label = str(entity).split(\"→\")[-1].split(\"(\")[0]\n",
        "\n",
        "    # Schema generation\n",
        "    inferred_schema.append({\n",
        "        \"head\": head_entity_label.strip(),\n",
        "        \"relation\": triple[\"relation\"],\n",
        "        \"tail\": tail_entity_label.strip(),\n",
        "        \"source\": source,\n",
        "        \"createdAt\": now\n",
        "    })\n",
        "\n",
        "# Filter unique schemas\n",
        "inferred_schema = [dict(t) for t in {tuple(d.items()) for d in inferred_schema}]"
      ],
      "metadata": {
        "id": "irvlYpl5ECyT"
      },
      "execution_count": null,
      "outputs": []
    },
    {
      "cell_type": "markdown",
      "source": [
        "##### KG Instances"
      ],
      "metadata": {
        "id": "UyL7iHlLTTmY"
      }
    },
    {
      "cell_type": "code",
      "source": [
        "# KG Instances\n",
        "print(json.dumps(triples,sort_keys=False, indent=4))"
      ],
      "metadata": {
        "colab": {
          "base_uri": "https://localhost:8080/"
        },
        "id": "uVHpAVJzTKFx",
        "outputId": "ba4ba12c-288f-4e5f-b504-8e8bfeb9461f"
      },
      "execution_count": null,
      "outputs": [
        {
          "output_type": "stream",
          "name": "stdout",
          "text": [
            "[\n",
            "    {\n",
            "        \"head\": \"methotrexate\",\n",
            "        \"relation\": \"medical condition treated\",\n",
            "        \"tail\": \"rheumatoid arthritis\",\n",
            "        \"source\": \"REBEL\",\n",
            "        \"createdAt\": \"2024-12-05 00:54:25.153448\"\n",
            "    },\n",
            "    {\n",
            "        \"head\": \"rheumatoid arthritis\",\n",
            "        \"relation\": \"drug used for treatment\",\n",
            "        \"tail\": \"methotrexate\",\n",
            "        \"source\": \"REBEL\",\n",
            "        \"createdAt\": \"2024-12-05 00:54:25.153448\"\n",
            "    },\n",
            "    {\n",
            "        \"head\": \"methotrexate\",\n",
            "        \"relation\": \"WikiData_ID\",\n",
            "        \"tail\": \"Q422232\",\n",
            "        \"source\": \"WikiData\",\n",
            "        \"createdAt\": \"2024-12-05 00:54:25.153448\"\n",
            "    },\n",
            "    {\n",
            "        \"head\": \"rheumatoid arthritis\",\n",
            "        \"relation\": \"WikiData_ID\",\n",
            "        \"tail\": \"Q187255\",\n",
            "        \"source\": \"WikiData\",\n",
            "        \"createdAt\": \"2024-12-05 00:54:25.153448\"\n",
            "    },\n",
            "    {\n",
            "        \"head\": \"Q422232\",\n",
            "        \"relation\": \"chemical formula\",\n",
            "        \"tail\": \"C\\u2082\\u2080H\\u2082\\u2082N\\u2088O\\u2085\",\n",
            "        \"source\": \"WikiData\",\n",
            "        \"createdAt\": \"2024-12-05 00:54:25.153448\"\n",
            "    },\n",
            "    {\n",
            "        \"head\": \"Q422232\",\n",
            "        \"relation\": \"subclass of\",\n",
            "        \"tail\": \"Amethopterin\",\n",
            "        \"source\": \"WikiData\",\n",
            "        \"createdAt\": \"2024-12-05 00:54:25.153448\"\n",
            "    },\n",
            "    {\n",
            "        \"head\": \"Q422232\",\n",
            "        \"relation\": \"part of\",\n",
            "        \"tail\": \"response to methotrexate\",\n",
            "        \"source\": \"WikiData\",\n",
            "        \"createdAt\": \"2024-12-05 00:54:25.153448\"\n",
            "    },\n",
            "    {\n",
            "        \"head\": \"Q422232\",\n",
            "        \"relation\": \"part of\",\n",
            "        \"tail\": \"methotrexate transmembrane transporter activity\",\n",
            "        \"source\": \"WikiData\",\n",
            "        \"createdAt\": \"2024-12-05 00:54:25.153448\"\n",
            "    },\n",
            "    {\n",
            "        \"head\": \"Q422232\",\n",
            "        \"relation\": \"part of\",\n",
            "        \"tail\": \"cellular response to methotrexate\",\n",
            "        \"source\": \"WikiData\",\n",
            "        \"createdAt\": \"2024-12-05 00:54:25.153448\"\n",
            "    },\n",
            "    {\n",
            "        \"head\": \"Q187255\",\n",
            "        \"relation\": \"drug or therapy used for treatment\",\n",
            "        \"tail\": \"azathioprine\",\n",
            "        \"source\": \"WikiData\",\n",
            "        \"createdAt\": \"2024-12-05 00:54:25.153448\"\n",
            "    },\n",
            "    {\n",
            "        \"head\": \"Q187255\",\n",
            "        \"relation\": \"drug or therapy used for treatment\",\n",
            "        \"tail\": \"ibuprofen\",\n",
            "        \"source\": \"WikiData\",\n",
            "        \"createdAt\": \"2024-12-05 00:54:25.153448\"\n",
            "    },\n",
            "    {\n",
            "        \"head\": \"Q187255\",\n",
            "        \"relation\": \"drug or therapy used for treatment\",\n",
            "        \"tail\": \"thalidomide\",\n",
            "        \"source\": \"WikiData\",\n",
            "        \"createdAt\": \"2024-12-05 00:54:25.153448\"\n",
            "    },\n",
            "    {\n",
            "        \"head\": \"Q187255\",\n",
            "        \"relation\": \"drug or therapy used for treatment\",\n",
            "        \"tail\": \"Diclofenac\",\n",
            "        \"source\": \"WikiData\",\n",
            "        \"createdAt\": \"2024-12-05 00:54:25.153448\"\n",
            "    },\n",
            "    {\n",
            "        \"head\": \"Q187255\",\n",
            "        \"relation\": \"drug or therapy used for treatment\",\n",
            "        \"tail\": \"leflunomide\",\n",
            "        \"source\": \"WikiData\",\n",
            "        \"createdAt\": \"2024-12-05 00:54:25.153448\"\n",
            "    }\n",
            "]\n"
          ]
        }
      ]
    },
    {
      "cell_type": "markdown",
      "source": [
        "##### KG Schema"
      ],
      "metadata": {
        "id": "-k0veHJ_TW74"
      }
    },
    {
      "cell_type": "code",
      "source": [
        "# KG Schema\n",
        "print(json.dumps(inferred_schema,sort_keys=False, indent=4))"
      ],
      "metadata": {
        "colab": {
          "base_uri": "https://localhost:8080/"
        },
        "id": "G0B5s0G2EiTw",
        "outputId": "55558a36-a461-471a-b69e-dcbc33317c9f"
      },
      "execution_count": null,
      "outputs": [
        {
          "output_type": "stream",
          "name": "stdout",
          "text": [
            "[\n",
            "    {\n",
            "        \"head\": \"Chemical\",\n",
            "        \"relation\": \"WikiData_ID\",\n",
            "        \"tail\": \"Chemical\",\n",
            "        \"source\": \"Hunflair2\",\n",
            "        \"createdAt\": \"2024-12-05 00:54:25.153448\"\n",
            "    },\n",
            "    {\n",
            "        \"head\": \"Chemical\",\n",
            "        \"relation\": \"subclass of\",\n",
            "        \"tail\": \"Chemical\",\n",
            "        \"source\": \"Hunflair2\",\n",
            "        \"createdAt\": \"2024-12-05 00:54:25.153448\"\n",
            "    },\n",
            "    {\n",
            "        \"head\": \"Chemical\",\n",
            "        \"relation\": \"drug used for treatment\",\n",
            "        \"tail\": \"Chemical\",\n",
            "        \"source\": \"Hunflair2\",\n",
            "        \"createdAt\": \"2024-12-05 00:54:25.153448\"\n",
            "    },\n",
            "    {\n",
            "        \"head\": \"Chemical\",\n",
            "        \"relation\": \"chemical formula\",\n",
            "        \"tail\": \"Chemical\",\n",
            "        \"source\": \"Hunflair2\",\n",
            "        \"createdAt\": \"2024-12-05 00:54:25.153448\"\n",
            "    },\n",
            "    {\n",
            "        \"head\": \"Chemical\",\n",
            "        \"relation\": \"medical condition treated\",\n",
            "        \"tail\": \"Chemical\",\n",
            "        \"source\": \"Hunflair2\",\n",
            "        \"createdAt\": \"2024-12-05 00:54:25.153448\"\n",
            "    },\n",
            "    {\n",
            "        \"head\": \"Chemical\",\n",
            "        \"relation\": \"part of\",\n",
            "        \"tail\": \"Chemical\",\n",
            "        \"source\": \"Hunflair2\",\n",
            "        \"createdAt\": \"2024-12-05 00:54:25.153448\"\n",
            "    },\n",
            "    {\n",
            "        \"head\": \"Chemical\",\n",
            "        \"relation\": \"drug or therapy used for treatment\",\n",
            "        \"tail\": \"Chemical\",\n",
            "        \"source\": \"Hunflair2\",\n",
            "        \"createdAt\": \"2024-12-05 00:54:25.153448\"\n",
            "    }\n",
            "]\n"
          ]
        }
      ]
    },
    {
      "cell_type": "markdown",
      "source": [
        "#### Schema Alignment with WordNet (WN)"
      ],
      "metadata": {
        "id": "OezBZqHNKzRU"
      }
    },
    {
      "cell_type": "code",
      "source": [
        "schema_entities = []\n",
        "\n",
        "for schema in inferred_schema:\n",
        "    if schema[\"head\"] not in schema_entities:\n",
        "       schema_entities.append(schema[\"head\"])\n",
        "    if schema[\"tail\"] not in schema_entities:\n",
        "       schema_entities.append(schema[\"tail\"])\n",
        "\n",
        "for entity in schema_entities:\n",
        "    syns = wn.synonyms(entity)[0]\n",
        "\n",
        "    for syn in syns:\n",
        "        inferred_schema.append({\n",
        "            \"head\": entity,\n",
        "            \"relation\": \"synonyms\",\n",
        "            \"tail\": syn,\n",
        "            \"source\": \"WN\",\n",
        "            \"createdAt\": now\n",
        "        })"
      ],
      "metadata": {
        "id": "_wKuz7ihLTiP"
      },
      "execution_count": null,
      "outputs": []
    },
    {
      "cell_type": "code",
      "source": [
        "# Filter unique schemas\n",
        "inferred_schema = [dict(t) for t in {tuple(d.items()) for d in inferred_schema}]\n",
        "\n",
        "# Print inferred schema\n",
        "print(json.dumps(inferred_schema,sort_keys=False, indent=4))"
      ],
      "metadata": {
        "colab": {
          "base_uri": "https://localhost:8080/"
        },
        "id": "8yY-uWJLLZKZ",
        "outputId": "d104b93e-9d28-42cd-a5e6-74030dd2c790"
      },
      "execution_count": null,
      "outputs": [
        {
          "output_type": "stream",
          "name": "stdout",
          "text": [
            "[\n",
            "    {\n",
            "        \"head\": \"Chemical\",\n",
            "        \"relation\": \"WikiData_ID\",\n",
            "        \"tail\": \"Chemical\",\n",
            "        \"source\": \"Hunflair2\",\n",
            "        \"createdAt\": \"2024-12-05 00:54:25.153448\"\n",
            "    },\n",
            "    {\n",
            "        \"head\": \"Chemical\",\n",
            "        \"relation\": \"subclass of\",\n",
            "        \"tail\": \"Chemical\",\n",
            "        \"source\": \"Hunflair2\",\n",
            "        \"createdAt\": \"2024-12-05 00:54:25.153448\"\n",
            "    },\n",
            "    {\n",
            "        \"head\": \"Chemical\",\n",
            "        \"relation\": \"drug used for treatment\",\n",
            "        \"tail\": \"Chemical\",\n",
            "        \"source\": \"Hunflair2\",\n",
            "        \"createdAt\": \"2024-12-05 00:54:25.153448\"\n",
            "    },\n",
            "    {\n",
            "        \"head\": \"Chemical\",\n",
            "        \"relation\": \"synonyms\",\n",
            "        \"tail\": \"chemical\",\n",
            "        \"source\": \"WN\",\n",
            "        \"createdAt\": \"2024-12-05 00:54:25.153448\"\n",
            "    },\n",
            "    {\n",
            "        \"head\": \"Chemical\",\n",
            "        \"relation\": \"chemical formula\",\n",
            "        \"tail\": \"Chemical\",\n",
            "        \"source\": \"Hunflair2\",\n",
            "        \"createdAt\": \"2024-12-05 00:54:25.153448\"\n",
            "    },\n",
            "    {\n",
            "        \"head\": \"Chemical\",\n",
            "        \"relation\": \"medical condition treated\",\n",
            "        \"tail\": \"Chemical\",\n",
            "        \"source\": \"Hunflair2\",\n",
            "        \"createdAt\": \"2024-12-05 00:54:25.153448\"\n",
            "    },\n",
            "    {\n",
            "        \"head\": \"Chemical\",\n",
            "        \"relation\": \"synonyms\",\n",
            "        \"tail\": \"chemical_substance\",\n",
            "        \"source\": \"WN\",\n",
            "        \"createdAt\": \"2024-12-05 00:54:25.153448\"\n",
            "    },\n",
            "    {\n",
            "        \"head\": \"Chemical\",\n",
            "        \"relation\": \"part of\",\n",
            "        \"tail\": \"Chemical\",\n",
            "        \"source\": \"Hunflair2\",\n",
            "        \"createdAt\": \"2024-12-05 00:54:25.153448\"\n",
            "    },\n",
            "    {\n",
            "        \"head\": \"Chemical\",\n",
            "        \"relation\": \"drug or therapy used for treatment\",\n",
            "        \"tail\": \"Chemical\",\n",
            "        \"source\": \"Hunflair2\",\n",
            "        \"createdAt\": \"2024-12-05 00:54:25.153448\"\n",
            "    }\n",
            "]\n"
          ]
        }
      ]
    },
    {
      "cell_type": "markdown",
      "source": [
        "### With both KG Instances and KG Schema, you can export them to 3rd party Graph Databases such as Neo4j or train KG embedding models such as TransE, etc for your downstream tasks and applications!"
      ],
      "metadata": {
        "id": "E-kjd_ATSPVz"
      }
    }
  ]
}